{
 "metadata": {
  "language_info": {
   "codemirror_mode": {
    "name": "ipython",
    "version": 3
   },
   "file_extension": ".py",
   "mimetype": "text/x-python",
   "name": "python",
   "nbconvert_exporter": "python",
   "pygments_lexer": "ipython3",
   "version": "3.8.3-final"
  },
  "orig_nbformat": 2,
  "kernelspec": {
   "name": "pythondata",
   "display_name": "PythonData",
   "language": "python"
  }
 },
 "nbformat": 4,
 "nbformat_minor": 2,
 "cells": [
  {
   "cell_type": "code",
   "execution_count": 1,
   "metadata": {},
   "outputs": [
    {
     "output_type": "execute_result",
     "data": {
      "text/plain": [
       "   Age       Job Marital_Status               Education Default_Credit  \\\n",
       "0   56     other        married       Primary_Education             no   \n",
       "1   37  services        married     Secondary_Education             no   \n",
       "2   40     admin        married       Primary_Education             no   \n",
       "3   56  services        married     Secondary_Education             no   \n",
       "4   59     admin        married  Professional_Education             no   \n",
       "\n",
       "  Housing_Loan Personal_Loan Subscribed  \n",
       "0           no            no         no  \n",
       "1          yes            no         no  \n",
       "2           no            no         no  \n",
       "3           no           yes         no  \n",
       "4           no            no         no  "
      ],
      "text/html": "<div>\n<style scoped>\n    .dataframe tbody tr th:only-of-type {\n        vertical-align: middle;\n    }\n\n    .dataframe tbody tr th {\n        vertical-align: top;\n    }\n\n    .dataframe thead th {\n        text-align: right;\n    }\n</style>\n<table border=\"1\" class=\"dataframe\">\n  <thead>\n    <tr style=\"text-align: right;\">\n      <th></th>\n      <th>Age</th>\n      <th>Job</th>\n      <th>Marital_Status</th>\n      <th>Education</th>\n      <th>Default_Credit</th>\n      <th>Housing_Loan</th>\n      <th>Personal_Loan</th>\n      <th>Subscribed</th>\n    </tr>\n  </thead>\n  <tbody>\n    <tr>\n      <th>0</th>\n      <td>56</td>\n      <td>other</td>\n      <td>married</td>\n      <td>Primary_Education</td>\n      <td>no</td>\n      <td>no</td>\n      <td>no</td>\n      <td>no</td>\n    </tr>\n    <tr>\n      <th>1</th>\n      <td>37</td>\n      <td>services</td>\n      <td>married</td>\n      <td>Secondary_Education</td>\n      <td>no</td>\n      <td>yes</td>\n      <td>no</td>\n      <td>no</td>\n    </tr>\n    <tr>\n      <th>2</th>\n      <td>40</td>\n      <td>admin</td>\n      <td>married</td>\n      <td>Primary_Education</td>\n      <td>no</td>\n      <td>no</td>\n      <td>no</td>\n      <td>no</td>\n    </tr>\n    <tr>\n      <th>3</th>\n      <td>56</td>\n      <td>services</td>\n      <td>married</td>\n      <td>Secondary_Education</td>\n      <td>no</td>\n      <td>no</td>\n      <td>yes</td>\n      <td>no</td>\n    </tr>\n    <tr>\n      <th>4</th>\n      <td>59</td>\n      <td>admin</td>\n      <td>married</td>\n      <td>Professional_Education</td>\n      <td>no</td>\n      <td>no</td>\n      <td>no</td>\n      <td>no</td>\n    </tr>\n  </tbody>\n</table>\n</div>"
     },
     "metadata": {},
     "execution_count": 1
    }
   ],
   "source": [
    "# Import our dependencies\n",
    "from sklearn.model_selection import train_test_split\n",
    "from sklearn.preprocessing import StandardScaler,OneHotEncoder\n",
    "from sklearn.metrics import accuracy_score\n",
    "from sklearn.svm import SVC\n",
    "import pandas as pd\n",
    "import tensorflow as tf\n",
    "\n",
    "# Import our input dataset\n",
    "tele_df = pd.read_csv('bank_telemarketing.csv')\n",
    "tele_df.head()"
   ]
  },
  {
   "cell_type": "code",
   "execution_count": 3,
   "metadata": {},
   "outputs": [
    {
     "output_type": "execute_result",
     "data": {
      "text/plain": [
       "       Age  Job_admin  Job_blue-collar  Job_entrepreneur  Job_management  \\\n",
       "0       56          0                0                 0               0   \n",
       "1       37          0                0                 0               0   \n",
       "2       40          1                0                 0               0   \n",
       "3       56          0                0                 0               0   \n",
       "4       59          1                0                 0               0   \n",
       "...    ...        ...              ...               ...             ...   \n",
       "30472   73          0                0                 0               0   \n",
       "30473   46          0                1                 0               0   \n",
       "30474   56          0                0                 0               0   \n",
       "30475   44          0                0                 0               0   \n",
       "30476   74          0                0                 0               0   \n",
       "\n",
       "       Job_other  Job_retired  Job_self-employed  Job_services  \\\n",
       "0              1            0                  0             0   \n",
       "1              0            0                  0             1   \n",
       "2              0            0                  0             0   \n",
       "3              0            0                  0             1   \n",
       "4              0            0                  0             0   \n",
       "...          ...          ...                ...           ...   \n",
       "30472          0            1                  0             0   \n",
       "30473          0            0                  0             0   \n",
       "30474          0            1                  0             0   \n",
       "30475          0            0                  0             0   \n",
       "30476          0            1                  0             0   \n",
       "\n",
       "       Job_technician  ...  Education_Secondary_Education  \\\n",
       "0                   0  ...                              0   \n",
       "1                   0  ...                              1   \n",
       "2                   0  ...                              0   \n",
       "3                   0  ...                              1   \n",
       "4                   0  ...                              0   \n",
       "...               ...  ...                            ...   \n",
       "30472               0  ...                              0   \n",
       "30473               0  ...                              0   \n",
       "30474               0  ...                              0   \n",
       "30475               1  ...                              0   \n",
       "30476               0  ...                              0   \n",
       "\n",
       "       Education_Tertiary_Education  Default_Credit_no  Default_Credit_yes  \\\n",
       "0                                 0                  1                   0   \n",
       "1                                 0                  1                   0   \n",
       "2                                 0                  1                   0   \n",
       "3                                 0                  1                   0   \n",
       "4                                 0                  1                   0   \n",
       "...                             ...                ...                 ...   \n",
       "30472                             0                  1                   0   \n",
       "30473                             0                  1                   0   \n",
       "30474                             1                  1                   0   \n",
       "30475                             0                  1                   0   \n",
       "30476                             0                  1                   0   \n",
       "\n",
       "       Housing_Loan_no  Housing_Loan_yes  Personal_Loan_no  Personal_Loan_yes  \\\n",
       "0                    1                 0                 1                  0   \n",
       "1                    0                 1                 1                  0   \n",
       "2                    1                 0                 1                  0   \n",
       "3                    1                 0                 0                  1   \n",
       "4                    1                 0                 1                  0   \n",
       "...                ...               ...               ...                ...   \n",
       "30472                0                 1                 1                  0   \n",
       "30473                1                 0                 1                  0   \n",
       "30474                0                 1                 1                  0   \n",
       "30475                1                 0                 1                  0   \n",
       "30476                0                 1                 1                  0   \n",
       "\n",
       "       Subscribed_no  Subscribed_yes  \n",
       "0                  1               0  \n",
       "1                  1               0  \n",
       "2                  1               0  \n",
       "3                  1               0  \n",
       "4                  1               0  \n",
       "...              ...             ...  \n",
       "30472              0               1  \n",
       "30473              1               0  \n",
       "30474              1               0  \n",
       "30475              0               1  \n",
       "30476              1               0  \n",
       "\n",
       "[30477 rows x 25 columns]"
      ],
      "text/html": "<div>\n<style scoped>\n    .dataframe tbody tr th:only-of-type {\n        vertical-align: middle;\n    }\n\n    .dataframe tbody tr th {\n        vertical-align: top;\n    }\n\n    .dataframe thead th {\n        text-align: right;\n    }\n</style>\n<table border=\"1\" class=\"dataframe\">\n  <thead>\n    <tr style=\"text-align: right;\">\n      <th></th>\n      <th>Age</th>\n      <th>Job_admin</th>\n      <th>Job_blue-collar</th>\n      <th>Job_entrepreneur</th>\n      <th>Job_management</th>\n      <th>Job_other</th>\n      <th>Job_retired</th>\n      <th>Job_self-employed</th>\n      <th>Job_services</th>\n      <th>Job_technician</th>\n      <th>...</th>\n      <th>Education_Secondary_Education</th>\n      <th>Education_Tertiary_Education</th>\n      <th>Default_Credit_no</th>\n      <th>Default_Credit_yes</th>\n      <th>Housing_Loan_no</th>\n      <th>Housing_Loan_yes</th>\n      <th>Personal_Loan_no</th>\n      <th>Personal_Loan_yes</th>\n      <th>Subscribed_no</th>\n      <th>Subscribed_yes</th>\n    </tr>\n  </thead>\n  <tbody>\n    <tr>\n      <th>0</th>\n      <td>56</td>\n      <td>0</td>\n      <td>0</td>\n      <td>0</td>\n      <td>0</td>\n      <td>1</td>\n      <td>0</td>\n      <td>0</td>\n      <td>0</td>\n      <td>0</td>\n      <td>...</td>\n      <td>0</td>\n      <td>0</td>\n      <td>1</td>\n      <td>0</td>\n      <td>1</td>\n      <td>0</td>\n      <td>1</td>\n      <td>0</td>\n      <td>1</td>\n      <td>0</td>\n    </tr>\n    <tr>\n      <th>1</th>\n      <td>37</td>\n      <td>0</td>\n      <td>0</td>\n      <td>0</td>\n      <td>0</td>\n      <td>0</td>\n      <td>0</td>\n      <td>0</td>\n      <td>1</td>\n      <td>0</td>\n      <td>...</td>\n      <td>1</td>\n      <td>0</td>\n      <td>1</td>\n      <td>0</td>\n      <td>0</td>\n      <td>1</td>\n      <td>1</td>\n      <td>0</td>\n      <td>1</td>\n      <td>0</td>\n    </tr>\n    <tr>\n      <th>2</th>\n      <td>40</td>\n      <td>1</td>\n      <td>0</td>\n      <td>0</td>\n      <td>0</td>\n      <td>0</td>\n      <td>0</td>\n      <td>0</td>\n      <td>0</td>\n      <td>0</td>\n      <td>...</td>\n      <td>0</td>\n      <td>0</td>\n      <td>1</td>\n      <td>0</td>\n      <td>1</td>\n      <td>0</td>\n      <td>1</td>\n      <td>0</td>\n      <td>1</td>\n      <td>0</td>\n    </tr>\n    <tr>\n      <th>3</th>\n      <td>56</td>\n      <td>0</td>\n      <td>0</td>\n      <td>0</td>\n      <td>0</td>\n      <td>0</td>\n      <td>0</td>\n      <td>0</td>\n      <td>1</td>\n      <td>0</td>\n      <td>...</td>\n      <td>1</td>\n      <td>0</td>\n      <td>1</td>\n      <td>0</td>\n      <td>1</td>\n      <td>0</td>\n      <td>0</td>\n      <td>1</td>\n      <td>1</td>\n      <td>0</td>\n    </tr>\n    <tr>\n      <th>4</th>\n      <td>59</td>\n      <td>1</td>\n      <td>0</td>\n      <td>0</td>\n      <td>0</td>\n      <td>0</td>\n      <td>0</td>\n      <td>0</td>\n      <td>0</td>\n      <td>0</td>\n      <td>...</td>\n      <td>0</td>\n      <td>0</td>\n      <td>1</td>\n      <td>0</td>\n      <td>1</td>\n      <td>0</td>\n      <td>1</td>\n      <td>0</td>\n      <td>1</td>\n      <td>0</td>\n    </tr>\n    <tr>\n      <th>...</th>\n      <td>...</td>\n      <td>...</td>\n      <td>...</td>\n      <td>...</td>\n      <td>...</td>\n      <td>...</td>\n      <td>...</td>\n      <td>...</td>\n      <td>...</td>\n      <td>...</td>\n      <td>...</td>\n      <td>...</td>\n      <td>...</td>\n      <td>...</td>\n      <td>...</td>\n      <td>...</td>\n      <td>...</td>\n      <td>...</td>\n      <td>...</td>\n      <td>...</td>\n      <td>...</td>\n    </tr>\n    <tr>\n      <th>30472</th>\n      <td>73</td>\n      <td>0</td>\n      <td>0</td>\n      <td>0</td>\n      <td>0</td>\n      <td>0</td>\n      <td>1</td>\n      <td>0</td>\n      <td>0</td>\n      <td>0</td>\n      <td>...</td>\n      <td>0</td>\n      <td>0</td>\n      <td>1</td>\n      <td>0</td>\n      <td>0</td>\n      <td>1</td>\n      <td>1</td>\n      <td>0</td>\n      <td>0</td>\n      <td>1</td>\n    </tr>\n    <tr>\n      <th>30473</th>\n      <td>46</td>\n      <td>0</td>\n      <td>1</td>\n      <td>0</td>\n      <td>0</td>\n      <td>0</td>\n      <td>0</td>\n      <td>0</td>\n      <td>0</td>\n      <td>0</td>\n      <td>...</td>\n      <td>0</td>\n      <td>0</td>\n      <td>1</td>\n      <td>0</td>\n      <td>1</td>\n      <td>0</td>\n      <td>1</td>\n      <td>0</td>\n      <td>1</td>\n      <td>0</td>\n    </tr>\n    <tr>\n      <th>30474</th>\n      <td>56</td>\n      <td>0</td>\n      <td>0</td>\n      <td>0</td>\n      <td>0</td>\n      <td>0</td>\n      <td>1</td>\n      <td>0</td>\n      <td>0</td>\n      <td>0</td>\n      <td>...</td>\n      <td>0</td>\n      <td>1</td>\n      <td>1</td>\n      <td>0</td>\n      <td>0</td>\n      <td>1</td>\n      <td>1</td>\n      <td>0</td>\n      <td>1</td>\n      <td>0</td>\n    </tr>\n    <tr>\n      <th>30475</th>\n      <td>44</td>\n      <td>0</td>\n      <td>0</td>\n      <td>0</td>\n      <td>0</td>\n      <td>0</td>\n      <td>0</td>\n      <td>0</td>\n      <td>0</td>\n      <td>1</td>\n      <td>...</td>\n      <td>0</td>\n      <td>0</td>\n      <td>1</td>\n      <td>0</td>\n      <td>1</td>\n      <td>0</td>\n      <td>1</td>\n      <td>0</td>\n      <td>0</td>\n      <td>1</td>\n    </tr>\n    <tr>\n      <th>30476</th>\n      <td>74</td>\n      <td>0</td>\n      <td>0</td>\n      <td>0</td>\n      <td>0</td>\n      <td>0</td>\n      <td>1</td>\n      <td>0</td>\n      <td>0</td>\n      <td>0</td>\n      <td>...</td>\n      <td>0</td>\n      <td>0</td>\n      <td>1</td>\n      <td>0</td>\n      <td>0</td>\n      <td>1</td>\n      <td>1</td>\n      <td>0</td>\n      <td>1</td>\n      <td>0</td>\n    </tr>\n  </tbody>\n</table>\n<p>30477 rows × 25 columns</p>\n</div>"
     },
     "metadata": {},
     "execution_count": 3
    }
   ],
   "source": [
    "# Generate our categorical variable list\n",
    "tele_df = pd.get_dummies(tele_df)\n",
    "tele_df"
   ]
  },
  {
   "cell_type": "code",
   "execution_count": 4,
   "metadata": {},
   "outputs": [],
   "source": [
    "# Remove loan status target from features data\n",
    "y = tele_df.Subscribed_yes.values\n",
    "X = tele_df.drop(columns=[\"Subscribed_no\",\"Subscribed_yes\"]).values\n",
    "\n",
    "# Split training/test datasets\n",
    "X_train, X_test, y_train, y_test = train_test_split(X, y, random_state=42, stratify=y)\n",
    "\n",
    "# Create a StandardScaler instance\n",
    "scaler = StandardScaler()\n",
    "\n",
    "# Fit the StandardScaler\n",
    "X_scaler = scaler.fit(X_train)\n",
    "\n",
    "# Scale the data\n",
    "X_train_scaled = X_scaler.transform(X_train)\n",
    "X_test_scaled = X_scaler.transform(X_test)"
   ]
  },
  {
   "cell_type": "code",
   "execution_count": 5,
   "metadata": {},
   "outputs": [],
   "source": [
    "# Create the SVM model\n",
    "svm = SVC(kernel='linear')"
   ]
  },
  {
   "cell_type": "code",
   "execution_count": 6,
   "metadata": {},
   "outputs": [
    {
     "output_type": "execute_result",
     "data": {
      "text/plain": [
       "SVC(kernel='linear')"
      ]
     },
     "metadata": {},
     "execution_count": 6
    }
   ],
   "source": [
    "# Train the model\n",
    "svm.fit(X_train, y_train)"
   ]
  },
  {
   "cell_type": "code",
   "execution_count": 7,
   "metadata": {},
   "outputs": [
    {
     "output_type": "stream",
     "name": "stdout",
     "text": [
      " SVM model accuracy: 0.873\n"
     ]
    }
   ],
   "source": [
    "# Evaluate the model\n",
    "y_pred = svm.predict(X_test_scaled)\n",
    "print(f\" SVM model accuracy: {accuracy_score(y_test,y_pred):.3f}\")"
   ]
  },
  {
   "cell_type": "code",
   "execution_count": 8,
   "metadata": {},
   "outputs": [],
   "source": [
    "# Define the model - deep neural net\n",
    "number_input_features = len(X_train_scaled[0])\n",
    "hidden_nodes_layer1 =  10\n",
    "hidden_nodes_layer2 = 5\n",
    "\n",
    "nn = tf.keras.models.Sequential()\n",
    "\n",
    "# First hidden layer\n",
    "nn.add(\n",
    "    tf.keras.layers.Dense(units=hidden_nodes_layer1, input_dim=number_input_features, activation=\"relu\")\n",
    ")\n",
    "\n",
    "# Second hidden layer\n",
    "nn.add(tf.keras.layers.Dense(units=hidden_nodes_layer2, activation=\"relu\"))\n",
    "\n",
    "\n",
    "# Output layer\n",
    "nn.add(tf.keras.layers.Dense(units=1, activation=\"sigmoid\"))\n",
    "\n",
    "# Compile the Sequential model together and customize metrics\n",
    "nn.compile(loss=\"binary_crossentropy\", optimizer=\"adam\", metrics=[\"accuracy\"])"
   ]
  },
  {
   "cell_type": "code",
   "execution_count": 9,
   "metadata": {},
   "outputs": [
    {
     "output_type": "stream",
     "name": "stdout",
     "text": [
      "Epoch 1/50\n",
      "715/715 [==============================] - 1s 749us/step - loss: 0.5260 - accuracy: 0.7929\n",
      "Epoch 2/50\n",
      "715/715 [==============================] - 0s 662us/step - loss: 0.3609 - accuracy: 0.8795\n",
      "Epoch 3/50\n",
      "715/715 [==============================] - 0s 670us/step - loss: 0.3714 - accuracy: 0.8731\n",
      "Epoch 4/50\n",
      "715/715 [==============================] - 0s 655us/step - loss: 0.3701 - accuracy: 0.8739\n",
      "Epoch 5/50\n",
      "715/715 [==============================] - 0s 640us/step - loss: 0.3684 - accuracy: 0.8728\n",
      "Epoch 6/50\n",
      "715/715 [==============================] - 0s 629us/step - loss: 0.3600 - accuracy: 0.8773\n",
      "Epoch 7/50\n",
      "715/715 [==============================] - 0s 650us/step - loss: 0.3613 - accuracy: 0.8764\n",
      "Epoch 8/50\n",
      "715/715 [==============================] - 0s 640us/step - loss: 0.3692 - accuracy: 0.8717\n",
      "Epoch 9/50\n",
      "715/715 [==============================] - 1s 725us/step - loss: 0.3711 - accuracy: 0.8710\n",
      "Epoch 10/50\n",
      "715/715 [==============================] - 0s 665us/step - loss: 0.3620 - accuracy: 0.8741\n",
      "Epoch 11/50\n",
      "715/715 [==============================] - 0s 690us/step - loss: 0.3588 - accuracy: 0.8770\n",
      "Epoch 12/50\n",
      "715/715 [==============================] - 0s 683us/step - loss: 0.3653 - accuracy: 0.8731\n",
      "Epoch 13/50\n",
      "715/715 [==============================] - 1s 866us/step - loss: 0.3616 - accuracy: 0.8752\n",
      "Epoch 14/50\n",
      "715/715 [==============================] - 1s 834us/step - loss: 0.3681 - accuracy: 0.8722\n",
      "Epoch 15/50\n",
      "715/715 [==============================] - 1s 921us/step - loss: 0.3618 - accuracy: 0.8756\n",
      "Epoch 16/50\n",
      "715/715 [==============================] - 1s 1ms/step - loss: 0.3673 - accuracy: 0.8728\n",
      "Epoch 17/50\n",
      "715/715 [==============================] - 1s 1ms/step - loss: 0.3629 - accuracy: 0.8729\n",
      "Epoch 18/50\n",
      "715/715 [==============================] - 1s 704us/step - loss: 0.3583 - accuracy: 0.8745\n",
      "Epoch 19/50\n",
      "715/715 [==============================] - 0s 638us/step - loss: 0.3583 - accuracy: 0.8760\n",
      "Epoch 20/50\n",
      "715/715 [==============================] - 0s 648us/step - loss: 0.3569 - accuracy: 0.8765\n",
      "Epoch 21/50\n",
      "715/715 [==============================] - 1s 719us/step - loss: 0.3623 - accuracy: 0.8749\n",
      "Epoch 22/50\n",
      "715/715 [==============================] - 0s 675us/step - loss: 0.3562 - accuracy: 0.8770\n",
      "Epoch 23/50\n",
      "715/715 [==============================] - 0s 651us/step - loss: 0.3702 - accuracy: 0.8696\n",
      "Epoch 24/50\n",
      "715/715 [==============================] - 0s 682us/step - loss: 0.3633 - accuracy: 0.8724\n",
      "Epoch 25/50\n",
      "715/715 [==============================] - 0s 626us/step - loss: 0.3626 - accuracy: 0.8738\n",
      "Epoch 26/50\n",
      "715/715 [==============================] - 0s 640us/step - loss: 0.3644 - accuracy: 0.8723\n",
      "Epoch 27/50\n",
      "715/715 [==============================] - 0s 633us/step - loss: 0.3639 - accuracy: 0.8731\n",
      "Epoch 28/50\n",
      "715/715 [==============================] - 0s 638us/step - loss: 0.3670 - accuracy: 0.8716\n",
      "Epoch 29/50\n",
      "715/715 [==============================] - 0s 636us/step - loss: 0.3625 - accuracy: 0.8730\n",
      "Epoch 30/50\n",
      "715/715 [==============================] - 1s 731us/step - loss: 0.3658 - accuracy: 0.8732\n",
      "Epoch 31/50\n",
      "715/715 [==============================] - 0s 651us/step - loss: 0.3642 - accuracy: 0.8742\n",
      "Epoch 32/50\n",
      "715/715 [==============================] - 0s 654us/step - loss: 0.3601 - accuracy: 0.8746\n",
      "Epoch 33/50\n",
      "715/715 [==============================] - 0s 669us/step - loss: 0.3617 - accuracy: 0.8736\n",
      "Epoch 34/50\n",
      "715/715 [==============================] - 0s 665us/step - loss: 0.3638 - accuracy: 0.8730\n",
      "Epoch 35/50\n",
      "715/715 [==============================] - 0s 663us/step - loss: 0.3635 - accuracy: 0.8718\n",
      "Epoch 36/50\n",
      "715/715 [==============================] - 1s 715us/step - loss: 0.3626 - accuracy: 0.8726\n",
      "Epoch 37/50\n",
      "715/715 [==============================] - 0s 662us/step - loss: 0.3712 - accuracy: 0.8681\n",
      "Epoch 38/50\n",
      "715/715 [==============================] - 0s 631us/step - loss: 0.3634 - accuracy: 0.8746\n",
      "Epoch 39/50\n",
      "715/715 [==============================] - 0s 640us/step - loss: 0.3592 - accuracy: 0.8749\n",
      "Epoch 40/50\n",
      "715/715 [==============================] - 0s 636us/step - loss: 0.3555 - accuracy: 0.8765\n",
      "Epoch 41/50\n",
      "715/715 [==============================] - 0s 636us/step - loss: 0.3561 - accuracy: 0.8763\n",
      "Epoch 42/50\n",
      "715/715 [==============================] - 0s 657us/step - loss: 0.3611 - accuracy: 0.8746\n",
      "Epoch 43/50\n",
      "715/715 [==============================] - 0s 641us/step - loss: 0.3651 - accuracy: 0.8732\n",
      "Epoch 44/50\n",
      "715/715 [==============================] - 0s 633us/step - loss: 0.3659 - accuracy: 0.8722\n",
      "Epoch 45/50\n",
      "715/715 [==============================] - 0s 643us/step - loss: 0.3627 - accuracy: 0.8736\n",
      "Epoch 46/50\n",
      "715/715 [==============================] - 0s 636us/step - loss: 0.3672 - accuracy: 0.8691\n",
      "Epoch 47/50\n",
      "715/715 [==============================] - 0s 631us/step - loss: 0.3604 - accuracy: 0.8735\n",
      "Epoch 48/50\n",
      "715/715 [==============================] - 0s 637us/step - loss: 0.3617 - accuracy: 0.8743\n",
      "Epoch 49/50\n",
      "715/715 [==============================] - 0s 633us/step - loss: 0.3563 - accuracy: 0.8757\n",
      "Epoch 50/50\n",
      "715/715 [==============================] - 0s 645us/step - loss: 0.3632 - accuracy: 0.8723\n",
      "239/239 - 0s - loss: 0.3683 - accuracy: 0.8732\n",
      "Loss: 0.3682558536529541, Accuracy: 0.8732283711433411\n"
     ]
    }
   ],
   "source": [
    "# Train the model \n",
    "fit_model = nn.fit(X_train_scaled, y_train, epochs=50) \n",
    "# Evaluate the model using the test data \n",
    "model_loss, model_accuracy = nn.evaluate(X_test_scaled,y_test,verbose=2)\n",
    "print(f\"Loss: {model_loss}, Accuracy: {model_accuracy}\")"
   ]
  },
  {
   "cell_type": "code",
   "execution_count": null,
   "metadata": {},
   "outputs": [],
   "source": []
  }
 ]
}