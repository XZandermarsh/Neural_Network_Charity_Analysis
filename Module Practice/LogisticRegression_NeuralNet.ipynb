{
 "metadata": {
  "language_info": {
   "codemirror_mode": {
    "name": "ipython",
    "version": 3
   },
   "file_extension": ".py",
   "mimetype": "text/x-python",
   "name": "python",
   "nbconvert_exporter": "python",
   "pygments_lexer": "ipython3",
   "version": "3.8.3-final"
  },
  "orig_nbformat": 2,
  "kernelspec": {
   "name": "pythondata",
   "display_name": "PythonData",
   "language": "python"
  }
 },
 "nbformat": 4,
 "nbformat_minor": 2,
 "cells": [
  {
   "cell_type": "code",
   "execution_count": 2,
   "metadata": {},
   "outputs": [
    {
     "output_type": "execute_result",
     "data": {
      "text/plain": [
       "   Pregnancies  Glucose  BloodPressure  SkinThickness  Insulin   BMI  \\\n",
       "0            6      148             72             35        0  33.6   \n",
       "1            1       85             66             29        0  26.6   \n",
       "2            8      183             64              0        0  23.3   \n",
       "3            1       89             66             23       94  28.1   \n",
       "4            0      137             40             35      168  43.1   \n",
       "\n",
       "   DiabetesPedigreeFunction  Age  Outcome  \n",
       "0                     0.627   50        1  \n",
       "1                     0.351   31        0  \n",
       "2                     0.672   32        1  \n",
       "3                     0.167   21        0  \n",
       "4                     2.288   33        1  "
      ],
      "text/html": "<div>\n<style scoped>\n    .dataframe tbody tr th:only-of-type {\n        vertical-align: middle;\n    }\n\n    .dataframe tbody tr th {\n        vertical-align: top;\n    }\n\n    .dataframe thead th {\n        text-align: right;\n    }\n</style>\n<table border=\"1\" class=\"dataframe\">\n  <thead>\n    <tr style=\"text-align: right;\">\n      <th></th>\n      <th>Pregnancies</th>\n      <th>Glucose</th>\n      <th>BloodPressure</th>\n      <th>SkinThickness</th>\n      <th>Insulin</th>\n      <th>BMI</th>\n      <th>DiabetesPedigreeFunction</th>\n      <th>Age</th>\n      <th>Outcome</th>\n    </tr>\n  </thead>\n  <tbody>\n    <tr>\n      <th>0</th>\n      <td>6</td>\n      <td>148</td>\n      <td>72</td>\n      <td>35</td>\n      <td>0</td>\n      <td>33.6</td>\n      <td>0.627</td>\n      <td>50</td>\n      <td>1</td>\n    </tr>\n    <tr>\n      <th>1</th>\n      <td>1</td>\n      <td>85</td>\n      <td>66</td>\n      <td>29</td>\n      <td>0</td>\n      <td>26.6</td>\n      <td>0.351</td>\n      <td>31</td>\n      <td>0</td>\n    </tr>\n    <tr>\n      <th>2</th>\n      <td>8</td>\n      <td>183</td>\n      <td>64</td>\n      <td>0</td>\n      <td>0</td>\n      <td>23.3</td>\n      <td>0.672</td>\n      <td>32</td>\n      <td>1</td>\n    </tr>\n    <tr>\n      <th>3</th>\n      <td>1</td>\n      <td>89</td>\n      <td>66</td>\n      <td>23</td>\n      <td>94</td>\n      <td>28.1</td>\n      <td>0.167</td>\n      <td>21</td>\n      <td>0</td>\n    </tr>\n    <tr>\n      <th>4</th>\n      <td>0</td>\n      <td>137</td>\n      <td>40</td>\n      <td>35</td>\n      <td>168</td>\n      <td>43.1</td>\n      <td>2.288</td>\n      <td>33</td>\n      <td>1</td>\n    </tr>\n  </tbody>\n</table>\n</div>"
     },
     "metadata": {},
     "execution_count": 2
    }
   ],
   "source": [
    "# Import our dependencies\n",
    "from sklearn.model_selection import train_test_split\n",
    "from sklearn.preprocessing import StandardScaler\n",
    "from sklearn.linear_model import LogisticRegression\n",
    "from sklearn.metrics import accuracy_score\n",
    "import pandas as pd\n",
    "import tensorflow as tf\n",
    "\n",
    "# Import our input dataset\n",
    "diabetes_df = pd.read_csv('diabetes.csv')\n",
    "diabetes_df.head()"
   ]
  },
  {
   "cell_type": "code",
   "execution_count": 3,
   "metadata": {},
   "outputs": [],
   "source": [
    "# Remove diabetes outcome target from features data\n",
    "y = diabetes_df.Outcome\n",
    "X = diabetes_df.drop(columns=\"Outcome\")\n",
    "\n",
    "# Split training/test datasets\n",
    "X_train, X_test, y_train, y_test = train_test_split(X, y, random_state=42, stratify=y)"
   ]
  },
  {
   "cell_type": "code",
   "execution_count": 4,
   "metadata": {},
   "outputs": [],
   "source": [
    "# Preprocess numerical data for neural network\n",
    "\n",
    "# Create a StandardScaler instance\n",
    "scaler = StandardScaler()\n",
    "\n",
    "# Fit the StandardScaler\n",
    "X_scaler = scaler.fit(X_train)\n",
    "\n",
    "# Scale the data\n",
    "X_train_scaled = X_scaler.transform(X_train)\n",
    "X_test_scaled = X_scaler.transform(X_test)"
   ]
  },
  {
   "cell_type": "code",
   "execution_count": 5,
   "metadata": {},
   "outputs": [
    {
     "output_type": "stream",
     "name": "stdout",
     "text": [
      " Logistic regression model accuracy: 0.729\n"
     ]
    }
   ],
   "source": [
    "# Define the logistic regression model\n",
    "log_classifier = LogisticRegression(solver=\"lbfgs\",max_iter=200)\n",
    "\n",
    "# Train the model\n",
    "log_classifier.fit(X_train,y_train)\n",
    "\n",
    "# Evaluate the model\n",
    "y_pred = log_classifier.predict(X_test)\n",
    "print(f\" Logistic regression model accuracy: {accuracy_score(y_test,y_pred):.3f}\")"
   ]
  },
  {
   "cell_type": "code",
   "execution_count": 6,
   "metadata": {},
   "outputs": [
    {
     "output_type": "stream",
     "name": "stdout",
     "text": [
      "Epoch 1/50\n",
      "18/18 [==============================] - 0s 820us/step - loss: 0.8166 - accuracy: 0.3999\n",
      "Epoch 2/50\n",
      "18/18 [==============================] - 0s 997us/step - loss: 0.7447 - accuracy: 0.5305\n",
      "Epoch 3/50\n",
      "18/18 [==============================] - 0s 880us/step - loss: 0.7267 - accuracy: 0.5706\n",
      "Epoch 4/50\n",
      "18/18 [==============================] - 0s 1ms/step - loss: 0.6770 - accuracy: 0.6300\n",
      "Epoch 5/50\n",
      "18/18 [==============================] - 0s 939us/step - loss: 0.6556 - accuracy: 0.6504\n",
      "Epoch 6/50\n",
      "18/18 [==============================] - 0s 939us/step - loss: 0.6221 - accuracy: 0.6618\n",
      "Epoch 7/50\n",
      "18/18 [==============================] - 0s 763us/step - loss: 0.5872 - accuracy: 0.7095\n",
      "Epoch 8/50\n",
      "18/18 [==============================] - 0s 880us/step - loss: 0.5849 - accuracy: 0.6984\n",
      "Epoch 9/50\n",
      "18/18 [==============================] - 0s 763us/step - loss: 0.5778 - accuracy: 0.6856\n",
      "Epoch 10/50\n",
      "18/18 [==============================] - 0s 821us/step - loss: 0.5408 - accuracy: 0.7391\n",
      "Epoch 11/50\n",
      "18/18 [==============================] - 0s 821us/step - loss: 0.5405 - accuracy: 0.7341\n",
      "Epoch 12/50\n",
      "18/18 [==============================] - 0s 821us/step - loss: 0.5224 - accuracy: 0.7532\n",
      "Epoch 13/50\n",
      "18/18 [==============================] - 0s 997us/step - loss: 0.5161 - accuracy: 0.7390\n",
      "Epoch 14/50\n",
      "18/18 [==============================] - 0s 821us/step - loss: 0.5049 - accuracy: 0.7624\n",
      "Epoch 15/50\n",
      "18/18 [==============================] - 0s 880us/step - loss: 0.4852 - accuracy: 0.7882\n",
      "Epoch 16/50\n",
      "18/18 [==============================] - 0s 939us/step - loss: 0.5021 - accuracy: 0.7644\n",
      "Epoch 17/50\n",
      "18/18 [==============================] - 0s 880us/step - loss: 0.5023 - accuracy: 0.7626\n",
      "Epoch 18/50\n",
      "18/18 [==============================] - 0s 880us/step - loss: 0.5167 - accuracy: 0.7595\n",
      "Epoch 19/50\n",
      "18/18 [==============================] - 0s 763us/step - loss: 0.4966 - accuracy: 0.7719\n",
      "Epoch 20/50\n",
      "18/18 [==============================] - 0s 821us/step - loss: 0.4885 - accuracy: 0.7741\n",
      "Epoch 21/50\n",
      "18/18 [==============================] - 0s 939us/step - loss: 0.4855 - accuracy: 0.7706\n",
      "Epoch 22/50\n",
      "18/18 [==============================] - 0s 1ms/step - loss: 0.4751 - accuracy: 0.7852\n",
      "Epoch 23/50\n",
      "18/18 [==============================] - 0s 821us/step - loss: 0.4625 - accuracy: 0.7845\n",
      "Epoch 24/50\n",
      "18/18 [==============================] - 0s 1ms/step - loss: 0.4482 - accuracy: 0.7981\n",
      "Epoch 25/50\n",
      "18/18 [==============================] - 0s 821us/step - loss: 0.4491 - accuracy: 0.7911\n",
      "Epoch 26/50\n",
      "18/18 [==============================] - 0s 763us/step - loss: 0.4629 - accuracy: 0.7842\n",
      "Epoch 27/50\n",
      "18/18 [==============================] - 0s 704us/step - loss: 0.4258 - accuracy: 0.8133\n",
      "Epoch 28/50\n",
      "18/18 [==============================] - 0s 821us/step - loss: 0.4423 - accuracy: 0.8020\n",
      "Epoch 29/50\n",
      "18/18 [==============================] - 0s 880us/step - loss: 0.4715 - accuracy: 0.7782\n",
      "Epoch 30/50\n",
      "18/18 [==============================] - 0s 763us/step - loss: 0.4447 - accuracy: 0.7911\n",
      "Epoch 31/50\n",
      "18/18 [==============================] - 0s 880us/step - loss: 0.4676 - accuracy: 0.7631\n",
      "Epoch 32/50\n",
      "18/18 [==============================] - 0s 821us/step - loss: 0.4720 - accuracy: 0.7769\n",
      "Epoch 33/50\n",
      "18/18 [==============================] - 0s 704us/step - loss: 0.4495 - accuracy: 0.7891\n",
      "Epoch 34/50\n",
      "18/18 [==============================] - 0s 763us/step - loss: 0.4454 - accuracy: 0.7878\n",
      "Epoch 35/50\n",
      "18/18 [==============================] - 0s 763us/step - loss: 0.4501 - accuracy: 0.7967\n",
      "Epoch 36/50\n",
      "18/18 [==============================] - 0s 763us/step - loss: 0.4276 - accuracy: 0.8088\n",
      "Epoch 37/50\n",
      "18/18 [==============================] - 0s 763us/step - loss: 0.4666 - accuracy: 0.7625\n",
      "Epoch 38/50\n",
      "18/18 [==============================] - 0s 2ms/step - loss: 0.4378 - accuracy: 0.7987\n",
      "Epoch 39/50\n",
      "18/18 [==============================] - 0s 704us/step - loss: 0.4944 - accuracy: 0.7471\n",
      "Epoch 40/50\n",
      "18/18 [==============================] - 0s 763us/step - loss: 0.4385 - accuracy: 0.7958\n",
      "Epoch 41/50\n",
      "18/18 [==============================] - 0s 821us/step - loss: 0.4276 - accuracy: 0.8054\n",
      "Epoch 42/50\n",
      "18/18 [==============================] - 0s 763us/step - loss: 0.4570 - accuracy: 0.7809\n",
      "Epoch 43/50\n",
      "18/18 [==============================] - 0s 880us/step - loss: 0.4572 - accuracy: 0.7931\n",
      "Epoch 44/50\n",
      "18/18 [==============================] - 0s 939us/step - loss: 0.4354 - accuracy: 0.8042\n",
      "Epoch 45/50\n",
      "18/18 [==============================] - 0s 763us/step - loss: 0.4359 - accuracy: 0.7976\n",
      "Epoch 46/50\n",
      "18/18 [==============================] - 0s 997us/step - loss: 0.4548 - accuracy: 0.7998\n",
      "Epoch 47/50\n",
      "18/18 [==============================] - 0s 763us/step - loss: 0.4183 - accuracy: 0.7971\n",
      "Epoch 48/50\n",
      "18/18 [==============================] - 0s 763us/step - loss: 0.4441 - accuracy: 0.7864\n",
      "Epoch 49/50\n",
      "18/18 [==============================] - 0s 763us/step - loss: 0.4701 - accuracy: 0.7704\n",
      "Epoch 50/50\n",
      "18/18 [==============================] - 0s 880us/step - loss: 0.4598 - accuracy: 0.7977\n",
      "6/6 - 0s - loss: 0.4939 - accuracy: 0.7396\n",
      "Loss: 0.4938689172267914, Accuracy: 0.7395833134651184\n"
     ]
    }
   ],
   "source": [
    "# Define the basic neural network model\n",
    "nn_model = tf.keras.models.Sequential()\n",
    "nn_model.add(tf.keras.layers.Dense(units=16, activation=\"relu\", input_dim=8))\n",
    "nn_model.add(tf.keras.layers.Dense(units=1, activation=\"sigmoid\"))\n",
    "\n",
    "# Compile the Sequential model together and customize metrics\n",
    "nn_model.compile(loss=\"binary_crossentropy\", optimizer=\"adam\", metrics=[\"accuracy\"])\n",
    "\n",
    "# Train the model\n",
    "fit_model = nn_model.fit(X_train_scaled, y_train, epochs=50)\n",
    "\n",
    "# Evaluate the model using the test data\n",
    "model_loss, model_accuracy = nn_model.evaluate(X_test_scaled,y_test,verbose=2)\n",
    "print(f\"Loss: {model_loss}, Accuracy: {model_accuracy}\")"
   ]
  },
  {
   "cell_type": "code",
   "execution_count": null,
   "metadata": {},
   "outputs": [],
   "source": []
  }
 ]
}